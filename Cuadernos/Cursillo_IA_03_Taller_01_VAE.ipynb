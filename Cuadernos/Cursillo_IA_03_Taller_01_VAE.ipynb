{
 "cells": [
  {
   "cell_type": "markdown",
   "id": "d5ad1446-b6e2-4498-a445-abfbdb05979d",
   "metadata": {
    "jp-MarkdownHeadingCollapsed": true
   },
   "source": [
    "<figure>\n",
    "<img src=\"../imagenes/logo-final-ap.png\"  width=\"80\" height=\"80\" align=\"left\"/> \n",
    "    <img src=\"../imagenes/Foto Alvaro Montenegro.png\" width=\"40\" height=\"40\" align=\"right\" /> \n",
    "</figure>\n",
    "\n",
    "# <span style=\"color:#4361EE\"><left>Aprendizaje Profundo</left></span>"
   ]
  },
  {
   "cell_type": "markdown",
   "id": "c76803b6-3937-47c9-af6f-a3f781df00e7",
   "metadata": {},
   "source": [
    "# <span style=\"color:red\"><center>Simposio Internacional de Estadística 2024</center></span>"
   ]
  },
  {
   "cell_type": "markdown",
   "id": "ea99085b-edec-40d1-bb0d-25bc5146c369",
   "metadata": {},
   "source": [
    "## <span style=\"color:green\"><center>Minicurso de Inteligencia Artificial Moderna - Taller 3.1<center></span>"
   ]
  },
  {
   "attachments": {},
   "cell_type": "markdown",
   "id": "7ef97089-5509-4ae3-b475-9754bdd3c346",
   "metadata": {
    "id": "8843923f-cbce-49c7-be36-eb8a730b3de3"
   },
   "source": [
    "### <span style=\"color:green\"><center>Autocodificador Variacional: FashionMNIST</center></span>"
   ]
  },
  {
   "attachments": {},
   "cell_type": "markdown",
   "id": "e1af674f-d7ad-432e-9d02-5e8492d16710",
   "metadata": {},
   "source": [
    "<figure>\n",
    "<center>\n",
    "<img src=\"../Imagenes/vae-diagram-1-1024x563.jpg\" width=\"600\" height=\"600\" align=\"center\"/>\n",
    "</center>\n",
    "</figure>\n",
    "\n",
    "Fuente: [LearnOpenCV](https://learnopencv.com/variational-autoencoder-in-tensorflow/)"
   ]
  },
  {
   "cell_type": "markdown",
   "id": "f8943f76-7fdc-4cef-a517-3b6ee44ee57f",
   "metadata": {
    "slideshow": {
     "slide_type": "slide"
    },
    "tags": []
   },
   "source": [
    "# <span style=\"color:#4361EE\">Profesor</span>"
   ]
  },
  {
   "cell_type": "markdown",
   "id": "405b15ee-a588-4fd8-a6ce-47097df7d520",
   "metadata": {
    "slideshow": {
     "slide_type": "slide"
    },
    "tags": []
   },
   "source": [
    "## <span style=\"color:#4361EE\">Alvaro  Mauricio Montenegro Díaz, Ph.D.</span>"
   ]
  },
  {
   "cell_type": "markdown",
   "id": "81ca35ea-3cdb-4d0f-ad96-2ef7527d62d0",
   "metadata": {
    "slideshow": {
     "slide_type": "slide"
    },
    "tags": []
   },
   "source": [
    "## <span style=\"color:#4361EE\">Introducción </span>"
   ]
  },
  {
   "cell_type": "markdown",
   "id": "8561b1b8-e868-459b-a81b-6393ae2d6423",
   "metadata": {},
   "source": [
    "Para este taller utilizaremos los datos de FashioMNIST y la implementación esta hecha en Pytorch. El código fue generado con ChatGPT con el siguiente prompt:"
   ]
  },
  {
   "cell_type": "markdown",
   "id": "a9b73810-71e9-4704-859e-ccd7adf7bca0",
   "metadata": {},
   "source": [
    "## <span style=\"color:#4361EE\">VAE</span>"
   ]
  },
  {
   "cell_type": "markdown",
   "id": "7fb63874-18ab-4677-b413-587dc489a32e",
   "metadata": {},
   "source": [
    "Nuestro autocodificador (autoencoder) variacional (VAE) tendrá variables latentes gaussianas y una distribución posterior gaussiana   $q_{\\phi}(\\boldsymbol{z}|\\boldsymbol{x})$  con una matriz de covarianza diagonal.\n",
    "\n",
    "Recordemos que  un VAE de cuatro elementos escenciales:\n",
    "\n",
    "1. Una  variable  latente $\\boldsymbol{z}$ con distribución  $p(\\boldsymbol{z})$  que en nuestro caso será una variable  aleatoria Gaussiana con media cero y varianza 1 y que denotamos   $\\epsilon$.\n",
    "2. Un decodificador(decoder)  $p(\\boldsymbol{x}|\\boldsymbol{z})$  que mapea las  variables latentes  $\\boldsymbol{z}$  a variables observables $\\boldsymbol{x}$. En este ejemplo este codificador implementa un perceptrón multicapa (MLP), en este caso una red neuronal con una capa oculta.\n",
    "3. Un codificador (encoder)  $q_{\\phi}(\\boldsymbol{z}|\\boldsymbol{x})$  que mapea ejemplos de entrada al espacio latente. Como se está cosntruyendo un autoencoder variacional se tiene que este mapeo se hace generando muestras aleatorias de distribciones Gaussianas con medias y varianzas que dependen de  la entrada:   $q_{\\phi}(\\boldsymbol{z}|\\boldsymbol{x})=N(\\boldsymbol{z},\\boldsymbol{\\mu}(x),\\text{diag}(\\boldsymbol{\\sigma}^2(\\boldsymbol{x})))$. \n",
    "4. Una función de costo que tiene dos términos: el  error de construcción que corresponde al modelo generativo implementado en el decoder y un término adicional de regularización que minimiza la divergencia KL. El error de reconstrucción es medido por el error cuadrático medio y la divergencia por el término\n",
    "$-D_{KL}(q_{\\phi}(\\boldsymbol{z}|\\boldsymbol{x})|p(\\boldsymbol{z}))=\\tfrac{1}{2}\\sum_{j=1}^{J}(1+\\log \\boldsymbol{\\sigma}^2_j(\\boldsymbol{x})-\\boldsymbol{\\mu}^2_j(\\boldsymbol{x})-\\boldsymbol{\\sigma}^2_j(\\boldsymbol{x}))$."
   ]
  },
  {
   "cell_type": "markdown",
   "id": "dfc49220-dc7f-4e9d-8db6-56853a2a60a7",
   "metadata": {},
   "source": [
    "## <span style=\"color:#4361EE\">El truco de la reparametrización</span>"
   ]
  },
  {
   "cell_type": "markdown",
   "id": "6ec156b5-6565-4903-9306-6ba898d1e725",
   "metadata": {},
   "source": [
    "Los gradientes de propagación hacia atrás no pueden pasar por el bloque de muestreo estocástico. Si bien está bien tener entradas estocásticas para redes neuronales, no es posible  pasar los gradientes por una capa estocástica. La solución a este problema es eliminar el proceso de muestreo como entrada, como se muestra en el lado derecho de la siguiente figura. \n",
    "\n",
    "Desde el punto de vista estadístico, esto es bastante simple. Se usa la representación estocástica clásica de una distribución normal multivariada asi:\n",
    "\n",
    "1. Genera una muestra $\\boldsymbol{\\epsilon} \\sim \\mathcal{N}_m(\\mathbf{0}, \\mathbf{I})$.\n",
    "2. Obtiene $\\mathbf{z} =\\boldsymbol{\\mu} + \\boldsymbol{\\epsilon} \\odot  \\boldsymbol{\\sigma}$.\n",
    "\n",
    "En consecuencia $\\mathbf{z}\\sim \\mathcal{N}_m(\\boldsymbol{\\mu},\\text{diag}( \\boldsymbol{\\sigma}^2))$."
   ]
  },
  {
   "cell_type": "markdown",
   "id": "93c8e123-3087-47c8-89cc-1d79597a16f0",
   "metadata": {},
   "source": [
    "## <span style=\"color:#4361EE\">El El algortimo VAE para FashionMnist</span>"
   ]
  },
  {
   "attachments": {},
   "cell_type": "markdown",
   "id": "3111dcb9-c763-4251-b0ce-d80d1951a681",
   "metadata": {},
   "source": [
    "1. Un lote de datos $\\boldsymbol{x}$ se transforma del espacio de entrada de tamaño image_size = 784 = 28*28,  a un espacio oculto intermedio (hidden) de tamaño hidden_dim = 512. Activación = ReLU.\n",
    "2. Se hacen dos proyecciones lineales hacia el espacio latente de tamaño latent_dim = 10.\n",
    "3. Una proyección se usara como representación de $\\boldsymbol{\\mu}(\\boldsymbol{x})$ y el otro como representación de $\\log \\boldsymbol{\\sigma}^2(\\boldsymbol{x})$\n",
    "4. Usando el truco de la reparametrización se genera un muestra $\\boldsymbol{z}\\sim \\mathcal{N}(\\boldsymbol{\\mu}(\\boldsymbol{x}), \\boldsymbol{\\sigma}^2(\\boldsymbol{x}))$.\n",
    "5. Se reconstruye la entrada (parte generativa). Esta recosntrucción se denota $\\boldsymbol{x}^*$. Para lograrlo se proyecta el vector latente $\\boldsymbol{z}$ al espacio intermedio de tamaño  hidden_dim = 512. Activación = ReLU.\n",
    "7. En seguida se proyecta linealmente al espacio original de tamaño image_size = 784 = 28*28 y se usa activación sigmoide para llevar a la escala original (0,1).\n",
    "8. Función de pérdida.\n",
    "   1. Del modelo de probabilidad: LM = Entropia_Cruzada_Binaria($\\boldsymbol{x}^* =, \\boldsymbol{x})= $\n",
    "   2. Se calcula el regularizadorque es la Divergencia LK= $-D_{KL}(q_{\\phi}(\\boldsymbol{z}|\\boldsymbol{x})|p(\\boldsymbol{z}))=\\tfrac{1}{2}\\sum_{j=1}^{J}(1+\\log \\boldsymbol{\\sigma}^2_j(\\boldsymbol{x})-\\boldsymbol{\\mu}^2_j(\\boldsymbol{x})-\\boldsymbol{\\sigma}^2_j(\\boldsymbol{x}))$.\n",
    "   3. Pérdida total: L = LM + LK.\n",
    "      \n",
    "\n",
    "- [Regresar al inicio](#Contenido)\n",
    "- [Ejemplo Auto Encoder Variacional para los datos de MNIST](VAE_Example_Dense_mnist.ipynb)"
   ]
  },
  {
   "cell_type": "markdown",
   "id": "e62dfb68-cc48-4a39-998c-c5f45a817c4b",
   "metadata": {},
   "source": [
    "## <span style=\"color:#4361EE\">El código</span>"
   ]
  },
  {
   "cell_type": "code",
   "execution_count": 4,
   "id": "80da1743-e33b-404d-a48c-6286e7bf0687",
   "metadata": {},
   "outputs": [],
   "source": [
    "# imports\n",
    "import matplotlib.pyplot as plt\n",
    "import torch\n",
    "import torch.nn as nn\n",
    "import torch.nn.functional as F\n",
    "import torch.optim as optim\n",
    "from torchvision import datasets, transforms\n",
    "from torchsummary import summary\n",
    "from torchviz import make_dot"
   ]
  },
  {
   "cell_type": "code",
   "execution_count": 30,
   "id": "78cd061c-cfb6-4a76-ae1c-5cd4d68f404f",
   "metadata": {},
   "outputs": [],
   "source": [
    "# configuración\n",
    "# Parámetros\n",
    "image_size = 28 * 28  # Suponiendo imágenes de 28x28 píxeles\n",
    "hidden_dim = 512\n",
    "latent_dim = 10\n",
    "num_epochs = 100\n",
    "batch_size = 128\n",
    "learning_rate = 0.0001  # tasa de aprendizaje\n",
    "\n",
    "# Configurar el dispositivo (MPS o CPU). Para MAC OS\n",
    "device = torch.device(\"mps\" if torch.backends.mps.is_available() else \"cpu\")\n",
    "\n",
    "# tiene una GPU Nvidia\n",
    "#device = torch.device(\"cuda\" if torch.backends.mps.is_available() else \"cpu\")"
   ]
  },
  {
   "cell_type": "code",
   "execution_count": 28,
   "id": "3cdc7217-4994-49f2-9e74-131650c370b5",
   "metadata": {},
   "outputs": [],
   "source": [
    "# Clase VAE\n",
    "\n",
    "class VAE(nn.Module):\n",
    "    def __init__(self, dim):\n",
    "        super(VAE, self).__init__()\n",
    "        h_dim = dim[0]\n",
    "        z_dim = dim[1]\n",
    "\n",
    "        self.fc1 = nn.Linear(image_size, h_dim)\n",
    "        self.fc2 = nn.Linear(h_dim, z_dim)\n",
    "        self.fc3 = nn.Linear(h_dim, z_dim)\n",
    "\n",
    "        self.fc4 = nn.Linear(z_dim, h_dim)\n",
    "        self.fc5 = nn.Linear(h_dim, image_size)\n",
    "\n",
    "    def encode(self, x):\n",
    "        h = F.relu(self.fc1(x))\n",
    "        return self.fc2(h), self.fc3(h)\n",
    "\n",
    "    def reparameterize(self, mu, log_var):\n",
    "        std = torch.exp(log_var * 0.5)\n",
    "        eps = torch.randn_like(std)\n",
    "        return mu + eps * std\n",
    "\n",
    "    def decode_logits(self, z):\n",
    "        h = F.relu(self.fc4(z))\n",
    "        return self.fc5(h)\n",
    "\n",
    "    def decode(self, z):\n",
    "        #return torch.sigmoid(self.decode_logits(z))\n",
    "        return torch.tanh(self.decode_logits(z))\n",
    "        \n",
    "    def forward(self, inputs):\n",
    "        mu, log_var = self.encode(inputs)\n",
    "        z = self.reparameterize(mu, log_var)\n",
    "        x_reconstructed_logits = self.decode_logits(z)\n",
    "        return x_reconstructed_logits, mu, log_var\n",
    "\n",
    "# Crear el modelo y moverlo al dispositivo\n",
    "model = VAE([hidden_dim, latent_dim]).to(device)"
   ]
  },
  {
   "cell_type": "code",
   "execution_count": 21,
   "id": "9de104d5-bd1d-4274-adc2-92c64714b624",
   "metadata": {},
   "outputs": [
    {
     "name": "stdout",
     "output_type": "stream",
     "text": [
      "----------------------------------------------------------------\n",
      "        Layer (type)               Output Shape         Param #\n",
      "================================================================\n",
      "            Linear-1               [-1, 1, 512]         401,920\n",
      "            Linear-2                [-1, 1, 10]           5,130\n",
      "            Linear-3                [-1, 1, 10]           5,130\n",
      "            Linear-4               [-1, 1, 512]           5,632\n",
      "            Linear-5               [-1, 1, 784]         402,192\n",
      "================================================================\n",
      "Total params: 820,004\n",
      "Trainable params: 820,004\n",
      "Non-trainable params: 0\n",
      "----------------------------------------------------------------\n",
      "Input size (MB): 0.00\n",
      "Forward/backward pass size (MB): 0.01\n",
      "Params size (MB): 3.13\n",
      "Estimated Total Size (MB): 3.15\n",
      "----------------------------------------------------------------\n"
     ]
    }
   ],
   "source": [
    "# summary del modelo\n",
    "\n",
    "model_cpy = VAE([hidden_dim, latent_dim]).to('cpu')\n",
    "example_input = torch.randn(1, image_size).to('cpu')\n",
    "summary(model_cpy, input_size=(1, image_size), device=str('cpu'))\n",
    "\n"
   ]
  },
  {
   "cell_type": "code",
   "execution_count": 24,
   "id": "664a4557-244f-46a0-b622-f397c0883cad",
   "metadata": {},
   "outputs": [],
   "source": [
    "# Diagrama del modelo\n",
    "\n",
    "y = model_cpy(example_input)\n",
    "make_dot(y, params=dict(model.named_parameters())).render(\"VAE\", format=\"png\")\n",
    "\n",
    "#print(\"Diagrama del modelo generado y guardado como simple_nn.png.\")\n",
    "\n",
    "\n",
    "del model_cpy, example_input"
   ]
  },
  {
   "cell_type": "markdown",
   "id": "b6e4adbb-fd78-48a2-8db1-123f254760cb",
   "metadata": {},
   "source": [
    "`make_dot`:Produce una representación Graphviz del grafo de autograd de PyTorch.\n",
    "\n",
    "1. Si un nodo representa una función de retropropagación, es de color gris. De lo contrario, el nodo representa un tensor y es de color azul, naranja o verde:\n",
    "2. `Azul`: tensores hoja alcanzables que requieren gradiente (tensores cuyos campos .grad se poblarán durante .backward())\n",
    "3. `Naranja`: tensores guardados de funciones de autograd personalizadas, así como aquellos guardados por nodos de retropropagación incorporados\n",
    "4. `Verde`: tensor pasado como salida\n",
    "5. `Verde oscuro`: si alguna salida es una vista, representamos su tensor base con un nodo de color verde oscuro."
   ]
  },
  {
   "cell_type": "markdown",
   "id": "ed6ae5af-6f4d-4474-9873-333d7172427c",
   "metadata": {},
   "source": [
    "<figure>\n",
    "<center>\n",
    "<img src=\"../Imagenes/VAE.png\" width=\"500\" height=\"500\" align=\"center\"/>\n",
    "</center>\n",
    "<figcaption>\n",
    "<p style=\"text-align:center\">Implementación de un  Autoencoder Variacional</p>\n",
    "</figcaption>\n",
    "</figure>"
   ]
  },
  {
   "cell_type": "code",
   "execution_count": 31,
   "id": "4d18cb43-af5f-4166-a687-9fa17a2fe042",
   "metadata": {},
   "outputs": [
    {
     "name": "stdout",
     "output_type": "stream",
     "text": [
      "Epoch 1/100 completed with loss 111.25989270833334\n",
      "Epoch 2/100 completed with loss 120.2188626953125\n",
      "Epoch 3/100 completed with loss 127.20380782877604\n",
      "Epoch 4/100 completed with loss 140.63372373046874\n",
      "Epoch 5/100 completed with loss 138.89846977539062\n",
      "Epoch 6/100 completed with loss 140.8459773111979\n",
      "Epoch 7/100 completed with loss 125.10913318684896\n",
      "Epoch 8/100 completed with loss 129.2672333170573\n",
      "Epoch 9/100 completed with loss 116.37011481119792\n",
      "Epoch 10/100 completed with loss 119.83388494466146\n",
      "Epoch 11/100 completed with loss 141.65169254557293\n",
      "Epoch 12/100 completed with loss 124.1757288248698\n",
      "Epoch 13/100 completed with loss 124.48019659830729\n",
      "Epoch 14/100 completed with loss 120.80416931966145\n",
      "Epoch 15/100 completed with loss 119.1641140625\n",
      "Epoch 16/100 completed with loss 128.67792604166667\n",
      "Epoch 17/100 completed with loss 115.99391487630209\n",
      "Epoch 18/100 completed with loss 118.95109137369792\n",
      "Epoch 19/100 completed with loss 123.02981985677083\n",
      "Epoch 20/100 completed with loss 116.55124049479167\n",
      "Epoch 21/100 completed with loss 120.32305595703124\n",
      "Epoch 22/100 completed with loss 117.01538020833334\n",
      "Epoch 23/100 completed with loss 114.82227444661459\n",
      "Epoch 24/100 completed with loss 111.3756004720052\n",
      "Epoch 25/100 completed with loss 110.99745073242188\n",
      "Epoch 26/100 completed with loss 113.0498878092448\n",
      "Epoch 27/100 completed with loss 126.93137874348959\n",
      "Epoch 28/100 completed with loss 111.83301004231771\n",
      "Epoch 29/100 completed with loss 124.00302124023438\n",
      "Epoch 30/100 completed with loss 116.23666206054688\n",
      "Epoch 31/100 completed with loss 107.70724280598958\n",
      "Epoch 32/100 completed with loss 109.72020476888021\n",
      "Epoch 33/100 completed with loss 109.24758785807292\n",
      "Epoch 34/100 completed with loss 111.47740838216146\n",
      "Epoch 35/100 completed with loss 109.32299181315105\n",
      "Epoch 36/100 completed with loss 111.6184991373698\n",
      "Epoch 37/100 completed with loss 112.69523798828125\n",
      "Epoch 38/100 completed with loss 104.07642263997396\n",
      "Epoch 39/100 completed with loss 112.51799488932292\n",
      "Epoch 40/100 completed with loss 118.13062018229166\n",
      "Epoch 41/100 completed with loss 108.52748719075521\n",
      "Epoch 42/100 completed with loss 103.8115518391927\n",
      "Epoch 43/100 completed with loss 108.02662298177083\n",
      "Epoch 44/100 completed with loss 119.30279698893229\n",
      "Epoch 45/100 completed with loss 102.3834603515625\n",
      "Epoch 46/100 completed with loss 117.89556526692708\n",
      "Epoch 47/100 completed with loss 106.79890852864584\n",
      "Epoch 48/100 completed with loss 109.07051383463542\n",
      "Epoch 49/100 completed with loss 107.8854689453125\n",
      "Epoch 50/100 completed with loss 108.96386625976562\n",
      "Epoch 51/100 completed with loss 113.76328697916666\n",
      "Epoch 52/100 completed with loss 111.10877890625\n",
      "Epoch 53/100 completed with loss 112.72529703776041\n",
      "Epoch 54/100 completed with loss 112.14256178385416\n",
      "Epoch 55/100 completed with loss 113.95832757161459\n",
      "Epoch 56/100 completed with loss 107.1937569498698\n",
      "Epoch 57/100 completed with loss 109.80976127929688\n",
      "Epoch 58/100 completed with loss 119.47839168294271\n",
      "Epoch 59/100 completed with loss 101.00006653645833\n",
      "Epoch 60/100 completed with loss 103.6721791015625\n",
      "Epoch 61/100 completed with loss 109.1358119140625\n",
      "Epoch 62/100 completed with loss 105.7762172688802\n",
      "Epoch 63/100 completed with loss 105.10264248860678\n",
      "Epoch 64/100 completed with loss 107.28745670572917\n",
      "Epoch 65/100 completed with loss 111.85246692708333\n",
      "Epoch 66/100 completed with loss 103.5341171061198\n",
      "Epoch 67/100 completed with loss 110.46453229166667\n",
      "Epoch 68/100 completed with loss 110.7642342936198\n",
      "Epoch 69/100 completed with loss 114.51897376302084\n",
      "Epoch 70/100 completed with loss 109.28144371744791\n",
      "Epoch 71/100 completed with loss 103.71821606445313\n",
      "Epoch 72/100 completed with loss 102.73044565429687\n",
      "Epoch 73/100 completed with loss 109.70263959960937\n",
      "Epoch 74/100 completed with loss 113.65202711588542\n",
      "Epoch 75/100 completed with loss 110.61676618652344\n",
      "Epoch 76/100 completed with loss 104.496720703125\n",
      "Epoch 77/100 completed with loss 110.17702294921875\n",
      "Epoch 78/100 completed with loss 115.08350231933593\n",
      "Epoch 79/100 completed with loss 109.15040740559895\n",
      "Epoch 80/100 completed with loss 110.31918829752604\n",
      "Epoch 81/100 completed with loss 103.71275196940104\n",
      "Epoch 82/100 completed with loss 111.85587275390625\n",
      "Epoch 83/100 completed with loss 99.29368359375\n",
      "Epoch 84/100 completed with loss 105.65140895182292\n",
      "Epoch 85/100 completed with loss 101.12396552734376\n",
      "Epoch 86/100 completed with loss 105.15931617838541\n",
      "Epoch 87/100 completed with loss 104.68097819010417\n",
      "Epoch 88/100 completed with loss 106.57573273111979\n",
      "Epoch 89/100 completed with loss 106.15482731119792\n",
      "Epoch 90/100 completed with loss 102.17135000813802\n",
      "Epoch 91/100 completed with loss 106.68851708984376\n",
      "Epoch 92/100 completed with loss 109.89840690104167\n",
      "Epoch 93/100 completed with loss 102.58152939453124\n",
      "Epoch 94/100 completed with loss 108.31533413085937\n",
      "Epoch 95/100 completed with loss 99.96331770833334\n",
      "Epoch 96/100 completed with loss 102.97646811523437\n",
      "Epoch 97/100 completed with loss 105.49254412434895\n",
      "Epoch 98/100 completed with loss 112.5687489420573\n",
      "Epoch 99/100 completed with loss 117.59790244140625\n",
      "Epoch 100/100 completed with loss 107.26243937174479\n",
      "Test loss: 87.1382339477539\n"
     ]
    }
   ],
   "source": [
    "# Configurar el optimizador\n",
    "optimizer = optim.Adam(model.parameters(), lr=learning_rate)\n",
    "\n",
    "# Función para calcular la pérdida (ejemplo)\n",
    "def loss_function(recon_x, x, mu, logvar):\n",
    "    MSE = F.mse_loss(recon_x, x.view(-1, 784), reduction='sum')\n",
    "    KLD = -0.5 * torch.sum(1 + logvar - mu.pow(2) - logvar.exp())\n",
    "    return MSE + KLD\n",
    "\n",
    "# Función de entrenamiento\n",
    "def train(model, train_loader, optimizer, device):\n",
    "    model.train()\n",
    "    train_loss = 0\n",
    "    for batch_idx, (data, _) in enumerate(train_loader):\n",
    "        data = data.view(-1, image_size).to(device)  # Mover los datos al dispositivo y aplanarlos\n",
    "        optimizer.zero_grad()\n",
    "        recon_batch, mu, log_var = model(data)\n",
    "        loss = loss_function(recon_batch, data, mu, log_var)\n",
    "        loss.backward()\n",
    "        optimizer.step()\n",
    "        train_loss += loss.item()\n",
    "    return train_loss / len(train_loader.dataset)\n",
    "\n",
    "# Función de evaluación (opcional)\n",
    "def evaluate(model, test_loader, device):\n",
    "    model.eval()\n",
    "    test_loss = 0\n",
    "    with torch.no_grad():\n",
    "        for data, _ in test_loader:\n",
    "            data = data.view(-1, image_size).to(device)  # Mover los datos al dispositivo y aplanarlos\n",
    "            recon_batch, mu, log_var = model(data)\n",
    "            test_loss += loss_function(recon_batch, data, mu, log_var).item()\n",
    "    test_loss /= len(test_loader.dataset)\n",
    "    print(f'Test loss: {test_loss}')\n",
    "\n",
    "# Cargar el conjunto de datos y aplicar transformaciones\n",
    "transform = transforms.Compose([\n",
    "    transforms.ToTensor(),\n",
    "    transforms.Normalize((0.5,), (0.5,))\n",
    "])\n",
    "\n",
    "train_dataset = datasets.FashionMNIST(root='data', train=True, download=True, transform=transform)\n",
    "test_dataset = datasets.FashionMNIST(root='data', train=False, download=True, transform=transform)\n",
    "\n",
    "train_loader = torch.utils.data.DataLoader(train_dataset, batch_size=batch_size, shuffle=True)\n",
    "test_loader = torch.utils.data.DataLoader(test_dataset, batch_size=batch_size, shuffle=False)\n",
    "\n",
    "# Entrenar el modelo\n",
    "for epoch in range(num_epochs):\n",
    "    train_loss = train(model, train_loader, optimizer, device)\n",
    "    print(f'Epoch {epoch + 1}/{num_epochs} completed with loss {train_loss}')\n",
    "\n",
    "# Evaluar el modelo (opcional)\n",
    "evaluate(model, test_loader, device)"
   ]
  },
  {
   "cell_type": "code",
   "execution_count": 36,
   "id": "dbfedb2d-fd22-42b3-bbd3-8d3c965744ad",
   "metadata": {},
   "outputs": [
    {
     "data": {
      "image/png": "[encoded data removed]",
      "text/plain": [
       "<Figure size 1500x600 with 40 Axes>"
      ]
     },
     "metadata": {},
     "output_type": "display_data"
    }
   ],
   "source": [
    "# Evaluar y mostrar las reconstrucciones de las imágenes del conjunto de prueba\n",
    "\n",
    "model.eval()\n",
    "with torch.no_grad():\n",
    "    data_iter = iter(test_loader)\n",
    "    images, _ = next(data_iter)\n",
    "    images = images[:20].to(device)  # Obtener las primeras 20 imágenes\n",
    "    data = images.view(-1, image_size).to(device)\n",
    "    recon_images, _, _ = model(data)\n",
    "\n",
    "# Desnormalizar las imágenes para visualización\n",
    "images = images.cpu().numpy()\n",
    "recon_images = recon_images.cpu().numpy()\n",
    "\n",
    "images = images * 0.5 + 0.5  # Desnormalizar\n",
    "recon_images = recon_images * 0.5 + 0.5  # Desnormalizar\n",
    "\n",
    "# Mostrar las imágenes originales y reconstruidas\n",
    "fig, axes = plt.subplots(4, 10, figsize=(15, 6))\n",
    "for i in range(20):\n",
    "    axes[i // 5, (i % 5) * 2].imshow(images[i].reshape(28, 28), cmap='gray')\n",
    "    axes[i // 5, (i % 5) * 2].axis('off')\n",
    "    axes[i // 5, (i % 5) * 2 + 1].imshow(recon_images[i].reshape(28, 28), cmap='gray')\n",
    "    axes[i // 5, (i % 5) * 2 + 1].axis('off')\n",
    "\n",
    "plt.tight_layout()\n",
    "plt.show()"
   ]
  },
  {
   "cell_type": "code",
   "execution_count": null,
   "id": "1a4cbef6-d7a9-49a6-859f-ba669b56705e",
   "metadata": {},
   "outputs": [],
   "source": []
  }
 ],
 "metadata": {
  "kernelspec": {
   "display_name": "Python 3 (ipykernel)",
   "language": "python",
   "name": "python3"
  },
  "language_info": {
   "codemirror_mode": {
    "name": "ipython",
    "version": 3
   },
   "file_extension": ".py",
   "mimetype": "text/x-python",
   "name": "python",
   "nbconvert_exporter": "python",
   "pygments_lexer": "ipython3",
   "version": "3.12.2"
  }
 },
 "nbformat": 4,
 "nbformat_minor": 5
}
